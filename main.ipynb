{
 "cells": [
  {
   "cell_type": "code",
   "execution_count": null,
   "id": "0ec77f80",
   "metadata": {},
   "outputs": [],
   "source": [
    "print(\"Kernel Working fine\")"
   ]
  },
  {
   "cell_type": "code",
   "execution_count": null,
   "id": "9a1cf1d2",
   "metadata": {},
   "outputs": [],
   "source": []
  },
  {
   "cell_type": "code",
   "execution_count": null,
   "id": "7c4907c8",
   "metadata": {},
   "outputs": [],
   "source": []
  }
 ],
 "metadata": {
  "kernelspec": {
   "display_name": "uberde",
   "language": "python",
   "name": "python3"
  },
  "language_info": {
   "name": "python",
   "version": "3.9.23"
  }
 },
 "nbformat": 4,
 "nbformat_minor": 5
}
